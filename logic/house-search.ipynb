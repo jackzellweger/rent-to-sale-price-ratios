{
 "cells": [
  {
   "cell_type": "code",
   "execution_count": 4,
   "id": "525a9749-d8a0-4add-a19c-4be382fb73c0",
   "metadata": {
    "tags": []
   },
   "outputs": [],
   "source": [
    "import pandas as pd\n",
    "import geopandas as gpd\n",
    "from pathlib import Path  \n",
    "import folium\n",
    "import branca\n",
    "import json\n",
    "import os"
   ]
  },
  {
   "cell_type": "code",
   "execution_count": null,
   "id": "95fc50c4-666f-4cd3-b0c4-1d6634009293",
   "metadata": {
    "tags": []
   },
   "outputs": [],
   "source": [
    "# 2023 DATA IMPORTS\n",
    "\n",
    "sales = pd.read_csv('../data/sales/zip_code_market_tracker.tsv000', sep='\\t',header=0)\n",
    "rentals = pd.read_csv('../data/rental/Zip_zori_sm_month.csv', sep=',', header=0, converters={'RegionName': lambda x: x.zfill(5)})"
   ]
  },
  {
   "cell_type": "code",
   "execution_count": 3,
   "id": "9d9d1943-3443-4d57-9bbb-54708c36941a",
   "metadata": {},
   "outputs": [
    {
     "name": "stderr",
     "output_type": "stream",
     "text": [
      "/var/folders/dj/yd_369kx231256n8rxsw9wlh0000gn/T/ipykernel_78812/339374720.py:7: SettingWithCopyWarning: \n",
      "A value is trying to be set on a copy of a slice from a DataFrame.\n",
      "Try using .loc[row_indexer,col_indexer] = value instead\n",
      "\n",
      "See the caveats in the documentation: https://pandas.pydata.org/pandas-docs/stable/user_guide/indexing.html#returning-a-view-versus-a-copy\n",
      "  salesCleanedZip['region'] = sales['region'].str.extract('(\\d+)')\n"
     ]
    }
   ],
   "source": [
    "# SALES DATA COLLECTION & CLEANING\n",
    "\n",
    "# Take the data from just 2022\n",
    "salesCleanedZip = sales[sales[\"period_begin\"].str.contains(\"2022\")]\n",
    "\n",
    "# Clean up the zips\n",
    "salesCleanedZip['region'] = sales['region'].str.extract('(\\d+)')\n",
    "\n",
    "# Simplify the dataframe, isolating the 'region' and 'median_sale_price'\n",
    "# salesSimplified = salesCleanedZip[['region', 'median_sale_price']]\n",
    "salesSimplified = salesCleanedZip.filter(items=['region','median_sale_price'])\n",
    "\n",
    "# Isolate the 'region' and 'median_sale_price', then groups, and takes the mean of the zips\n",
    "# salesByZip = salesSimplified.groupby(['region']).mean()\n",
    "salesByZip = salesSimplified.groupby(['region']).median()\n",
    "\n",
    "# Reset the index\n",
    "# We might not need this if we use the .filter() dot-extension above.\n",
    "salesByZip = salesByZip.reset_index()\n",
    "\n",
    "# Rename the column 'region' to 'RegionName'\n",
    "salesByZip = salesByZip.rename(columns={'region':'RegionName'})\n",
    "\n",
    "# Rename the column 'median_sale_price' to 'CurrentSalesPrice'\n",
    "salesByZip = salesByZip.rename(columns={'median_sale_price':'CurrentSalesPrice'})"
   ]
  },
  {
   "cell_type": "code",
   "execution_count": 4,
   "id": "5ad2b717-5d5a-4818-8ed9-af2c92870f92",
   "metadata": {},
   "outputs": [],
   "source": [
    "# RENTAL DATA COLLECTION & CLEANING\n",
    "t1 = rentals[['RegionName']].join(rentals.filter(regex='2022'))\n",
    "t2 = t1.melt(id_vars='RegionName', var_name='Date', value_name='CurrentRentalPrice')\n",
    "currentRentalPrices = t2.groupby('RegionName').median().reset_index()"
   ]
  },
  {
   "cell_type": "code",
   "execution_count": 5,
   "id": "4b17338d-6113-456e-afbf-ebb8a51f3a30",
   "metadata": {},
   "outputs": [],
   "source": [
    "# Ensuring that there aren't any duplicate ZIP codes in the rental table\n",
    "booleanRentals = currentRentalPrices['RegionName'].duplicated().any()"
   ]
  },
  {
   "cell_type": "code",
   "execution_count": 6,
   "id": "0322992a-19d0-4ec5-98bb-c98de352ee94",
   "metadata": {},
   "outputs": [
    {
     "name": "stderr",
     "output_type": "stream",
     "text": [
      "/var/folders/dj/yd_369kx231256n8rxsw9wlh0000gn/T/ipykernel_78812/215701630.py:4: SettingWithCopyWarning: \n",
      "A value is trying to be set on a copy of a slice from a DataFrame.\n",
      "Try using .loc[row_indexer,col_indexer] = value instead\n",
      "\n",
      "See the caveats in the documentation: https://pandas.pydata.org/pandas-docs/stable/user_guide/indexing.html#returning-a-view-versus-a-copy\n",
      "  rentalsAndSales[\"RentToSaleRatio\"] = rentalsAndSales[\"CurrentRentalPrice\"]/rentalsAndSales[\"CurrentSalesPrice\"]\n"
     ]
    }
   ],
   "source": [
    "# JOINING THE DATABASE, CLEANING, & CALCULATING RENT:SALES\n",
    "combined=salesByZip.set_index('RegionName').join(currentRentalPrices.set_index('RegionName'))\n",
    "rentalsAndSales = combined.dropna()\n",
    "rentalsAndSales[\"RentToSaleRatio\"] = rentalsAndSales[\"CurrentRentalPrice\"]/rentalsAndSales[\"CurrentSalesPrice\"]"
   ]
  },
  {
   "cell_type": "code",
   "execution_count": 7,
   "id": "68029e08-14fc-416b-9a18-c41db31f08d9",
   "metadata": {},
   "outputs": [],
   "source": [
    "# FILTERING OUT THE OUTLIARS\n",
    "rentalsAndSalesFiltered = rentalsAndSales[rentalsAndSales.RentToSaleRatio < .015]\n",
    "rentalsAndSalesSorted = rentalsAndSalesFiltered.sort_values(by='RentToSaleRatio', ascending=False)"
   ]
  },
  {
   "cell_type": "code",
   "execution_count": 8,
   "id": "73ff5f0f-0f5d-46c8-b4ab-c13f8e75e301",
   "metadata": {},
   "outputs": [],
   "source": [
    "# EXPORT FOR MATHEMATICA IN 2 COLUMNS\n",
    "# filepath = Path('../prototype/out.csv')  \n",
    "# filepath.parent.mkdir(parents=True, exist_ok=True)  \n",
    "# rentalsAndSalesSorted.loc[:,'RentToSaleRatio'][0:1800].to_csv(filepath)"
   ]
  },
  {
   "cell_type": "code",
   "execution_count": 9,
   "id": "dfbcbb6d-0afd-4a22-96f4-43c07b95af25",
   "metadata": {},
   "outputs": [],
   "source": [
    "# IMPORTING SHAPEFILES\n",
    "shapefile = '../data/polygon/cb_2020_us_zcta520_500k.shp'\n",
    "gdf = gpd.read_file(shapefile)\n",
    "\n",
    "# SETTING UP BASE MAP\n",
    "testo = rentalsAndSalesSorted.join(gdf.set_index('NAME20')).dropna().sort_values('RegionName')\n",
    "gdf1 = gpd.GeoDataFrame(testo, geometry='geometry')\n",
    "m = folium.Map(location=[40.70, -98.94], zoom_start=4.0, tiles='CartoDB positron')\n",
    "color_map = branca.colormap.LinearColormap(['red', 'green'], vmin=0.000, vmax=0.016)\n",
    "\n",
    "for _, r in gdf1.iterrows():\n",
    "    shape_column = gpd.GeoSeries(r['geometry']).simplify(tolerance=0.001)\n",
    "    color = color_map(r['RentToSaleRatio'])\n",
    "    geo_j = shape_column.to_json()\n",
    "    geo_j_json = json.loads(geo_j)\n",
    "    geo_j_json['features'][0]['properties']['ratio'] = r['RentToSaleRatio']\n",
    "    geo_j = folium.GeoJson(data=geo_j_json,\n",
    "                           style_function=lambda x: {'fillColor': color_map(x['properties']['ratio']), 'color': 'black', 'weight': 0, 'fillOpacity': 0.9})\n",
    "    folium.Popup(str('{:.2f}% <br> {} <br> ${:,.0f} <br> ${:,.0f} '.format(r['RentToSaleRatio'] * 100, str(r['GEOID20']).zfill(5), r['CurrentSalesPrice'], r['CurrentRentalPrice'] ))).add_to(geo_j)\n",
    "    geo_j.add_to(m)\n",
    "m.save(\"../web_build/index.html\")"
   ]
  },
  {
   "cell_type": "code",
   "execution_count": 1,
   "id": "3faeacb0-d1e7-4fe9-8665-7bfc3e001f08",
   "metadata": {},
   "outputs": [],
   "source": [
    "# USEFUL CODE\n",
    "    # PLOTTING THE ZIP CODES BY RENT:SALES\n",
    "        # s2=rentalsAndSalesSorted.plot(y='RentToSaleRatio',figsize=(10,7), use_index=False);\n",
    "    # SAMPLING VARIOUS REGIONS\n",
    "        # [rentalsAndSalesSorted.tail(10)]\n",
    "        # [rentalsAndSalesSorted.head(10)]"
   ]
  }
 ],
 "metadata": {
  "kernelspec": {
   "display_name": "Python 3 (ipykernel)",
   "language": "python",
   "name": "python3"
  },
  "language_info": {
   "codemirror_mode": {
    "name": "ipython",
    "version": 3
   },
   "file_extension": ".py",
   "mimetype": "text/x-python",
   "name": "python",
   "nbconvert_exporter": "python",
   "pygments_lexer": "ipython3",
   "version": "3.9.13"
  }
 },
 "nbformat": 4,
 "nbformat_minor": 5
}
